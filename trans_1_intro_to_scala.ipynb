{
 "cells": [
  {
   "cell_type": "markdown",
   "metadata": {},
   "source": [
    "<a name=\"top\"></a><img src=\"images/chisel_1024.png\" alt=\"Chisel logo\" style=\"width:480px;\" />"
   ]
  },
  {
   "cell_type": "markdown",
   "metadata": {},
   "source": [
    "# 模块 1：Scala 简介\n",
    "**接下来：[你的第一个 Chisel 模块](2.1_first_module.ipynb)**\n",
    "\n",
    "## 动机\n",
    "这些教程使用 *Jupyter* 笔记本环境，因此您可以阅读代码、进行更改，然后在原地运行代码片段。我们鼓励您尝试使用教程代码块进行实验，以加快掌握 Chisel 的速度。\n",
    "\n",
    "在这个第一个模块中，您将学习如何编写基本的 Scala 代码以及如何阅读更高级的 Scala 代码。"
   ]
  },
  {
   "cell_type": "markdown",
   "metadata": {},
   "source": [
    "---\n",
    "# 理解 Scala\n",
    "Scala 是另一种支持常见编程范式的编程语言。我们选择使用它有几个原因：\n",
    "\n",
    "- 它是一个用于托管嵌入式 DSL 的良好语言。\n",
    "- 它具有用于操作各种数据集合的强大而优雅的库。\n",
    "- 它有一个严格的类型系统，有助于在开发周期的早期捕获大量错误，即在编译时。\n",
    "- 它具有表达和传递函数的强大方式。\n",
    "- Chi*p*el，Chi*j*el 和 Chi*c*el 不如 Chisel 读起来舒服。\n",
    "\n",
    "所有这些观点在我们后面谈论 Chisel 时将变得明显，但目前，我们将专注于阅读和编写 Scala 代码的基础知识。"
   ]
  },
  {
   "cell_type": "markdown",
   "metadata": {},
   "source": [
    "---\n",
    "# 变量和常量 - var 和 val\n",
    "创建（可变）变量和常量值（不可变变量）的语句分别以关键字 *var* 和 *val* 开头。通常的做法是尽可能使用 *val*。为什么呢？主要是为了减少以容易出错或使代码难以阅读的方式重复使用变量的机会。Scala 的结构使这种做法比您可能期望的更容易。\n",
    "\n",
    "<span style=\"color:blue\">**示例：**</span><br>\n",
    "随后的代码块可以直接在这个笔记本中执行。要运行它，请点击它。当单元格处于活动状态时，左侧会出现一个带有绿色条的框。一旦选择，可以使用笔记本顶部的 **播放** 按钮（下面用红色标出以供参考）。 \n",
    "\n",
    "![](images/playbutton.png)\n",
    "\n",
    "或者，您可以使用键盘快捷键。**Shift+Enter** 运行当前活动单元格并将焦点移至下一个单元格。**Ctrl+Enter** 运行当前单元格并保持焦点。\n",
    "\n",
    "关键示例以蓝色和粗体 <span style=\"color:blue\">**示例**</span> 开头，而练习以红色 <span style=\"color:red\">**练习**</span> 开头。模块 1 完全由简短示例组成，因此在此模块的其余部分我们省略了示例声明。"
   ]
  },
  {
   "cell_type": "code",
   "execution_count": null,
   "metadata": {},
   "outputs": [],
   "source": [
    "val thisIsAVal = 5\n",
    "var thisIsAVar = 5"
   ]
  },
  {
   "cell_type": "code",
   "metadata": {},
   "source": [
    "thisIsAVal + 4"
   ]
  },
  {
   "cell_type": "code",
   "metadata": {},
   "source": [
    "thisIsAVar + 4"
   ]
  },
  {
   "cell_type": "markdown",
   "metadata": {},
   "source": [
    "对于 *thisIsAVal*，您将无法更改其值："
   ]
  },
  {
   "cell_type": "code",
   "metadata": {},
   "source": [
    "thisIsAVal = 15  // 这会导致错误"
   ]
  },
  {
   "cell_type": "markdown",
   "metadata": {},
   "source": [
    "但是对于 *thisIsAVar*，您可以更改其值："
   ]
  },
  {
   "cell_type": "code",
   "metadata": {},
   "source": [
    "thisIsAVar = 15  // 这没有问题"
   ]
  },
  {
   "cell_type": "markdown",
   "metadata": {},
   "source": [
    "---\n",
    "# 控制结构\n",
    "控制结构允许您根据某些条件选择是否执行代码。"
   ]
  },
  {
   "cell_type": "markdown",
   "metadata": {},
   "source": [
    "## if 语句\n",
    "Scala 使用 *if* 语句来执行条件代码块。"
   ]
  },
  {
   "cell_type": "code",
   "metadata": {},
   "source": [
    "val number = 7\n",
    "if (number < 10) {\n",
    "    println(\"This is a small number\")\n",
    "} else {\n",
    "    println(\"This is a big number\")\n",
    "}"
   ]
  },
  {
   "cell_type": "markdown",
   "metadata": {},
   "source": [
    "## for 循环\n",
    "*for* 循环用于迭代集合的元素。"
   ]
  },
  {
   "cell_type": "code",
   "metadata": {},
   "source": [
    "val myArray = Array(1, 2, 3, 4, 5)\n",
    "for (x <- myArray) {\n",
    "    println(x)\n",
    "}"
   ]
  },
  {
   "cell_type": "markdown",
   "metadata": {},
   "source": [
    "## 函数\n",
    "在 Scala 中，函数是一等公民。这意味着您可以将它们分配给变量，将它们作为参数传递给其他函数，从其他函数中返回它们，并将它们存储在数据结构中。"
   ]
  },
  {
   "cell_type": "code",
   "metadata": {},
   "source": [
    "def addTwoNumbers(a: Int, b: Int): Int = {\n",
    "    a + b\n",
    "}\n",
    "\n",
    "val result = addTwoNumbers(3, 5)\n",
    "result"
   ]
  },
  {
   "cell_type": "markdown",
   "metadata": {},
   "source": [
    "## 类和对象\n",
    "Scala 是一种面向对象的语言，意味着您可以创建类和对象。类是对象的模板，对象是类的实例。"
   ]
  },
  {
   "cell_type": "code",
   "metadata": {},
   "source": [
    "class Dog(var name: String, var age: Int)\n",
    "\n",
    "val myDog = new Dog(\"Buddy\", 2)\n",
    "myDog.age"
   ]
  },
  {
   "cell_type": "markdown",
   "metadata": {},
   "source": [
    "## 模式匹配\n",
    "Scala 中的模式匹配是一种强大的功能，允许您检查值的类型并根据它的结构将代码执行流程导向不同的路径。"
   ]
  },
  {
   "cell_type": "code",
   "metadata": {},
   "source": [
    "val day = \"Monday\"\n",
    "val kind = day match {\n",
    "    case \"Monday\" => \"Start of the work week\"\n",
    "    case \"Friday\" => \"End of the work week\"\n",
    "    case _ => \"Some other day\"\n",
    "}\n",
    "kind"
   ]
  },
  {
   "cell_type": "markdown",
   "metadata": {},
   "source": [
    "---\n",
    "# 总结\n",
    "在本模块中，您了解了 Scala 的基础知识，这将有助于您理解和编写 Chisel 代码。接下来，您将开始使用 Chisel 创建硬件描述。"
   ]
  },
  {
   "cell_type": "markdown",
   "metadata": {},
   "source": [
    "**接下来：[你的第一个 Chisel 模块](2.1_first_module.ipynb)**"
   ]
  }
 ],
 "metadata": {
  "kernelspec": {
   "display_name": "Scala",
   "language": "scala",
   "name": "scala"
  },
  "language_info": {
   "codemirror_mode": {
    "name": "scala",
   "version": 3
   },
   "file_extension": ".scala",
   "mimetype": "text/x-scala",
   "name": "scala"
  }
 },
 "nbformat": 4,
 "nbformat_minor": 2
}
